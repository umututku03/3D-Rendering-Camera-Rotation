{
  "nbformat": 4,
  "nbformat_minor": 0,
  "metadata": {
    "colab": {
      "provenance": [],
      "authorship_tag": "ABX9TyOyb34SWyi/7B+VLOm+89pl"
    },
    "kernelspec": {
      "name": "python3",
      "display_name": "Python 3"
    },
    "language_info": {
      "name": "python"
    }
  },
  "cells": [
    {
      "cell_type": "code",
      "execution_count": null,
      "metadata": {
        "id": "jt7BNOwZ24Wx"
      },
      "outputs": [],
      "source": [
        "import numpy as np\n",
        "import os\n",
        "import shutil\n",
        "\n",
        "\n",
        "from PIL import Image, ImageDraw"
      ]
    },
    {
      "cell_type": "code",
      "source": [
        "# Step 1: Define the 3D cube vertices and edges (the cube will be still)\n",
        "cube_vertices = np.array([\n",
        "    [1, 1, -1], [-1, 1, -1], [-1, -1, -1], [1, -1, -1],\n",
        "    [1, 1, 1], [-1, 1, 1], [-1, -1, 1], [1, -1, 1]\n",
        "])\n",
        "\n",
        "cube_edges = [\n",
        "    (0, 1), (1, 2), (2, 3), (3, 0),\n",
        "    (4, 5), (5, 6), (6, 7), (7, 4),\n",
        "    (0, 4), (1, 5), (2, 6), (3, 7)\n",
        "]"
      ],
      "metadata": {
        "id": "p1rgQolk2-sf"
      },
      "execution_count": null,
      "outputs": []
    },
    {
      "cell_type": "code",
      "source": [
        "def normalize(v):\n",
        "  \"\"\"\n",
        "  Normalize a given vector.\n",
        "  \"\"\"\n",
        "  norm = np.linalg.norm(v)\n",
        "  if norm == 0:\n",
        "    return v\n",
        "  return v / norm"
      ],
      "metadata": {
        "id": "hjmlWGLWZasT"
      },
      "execution_count": null,
      "outputs": []
    },
    {
      "cell_type": "code",
      "source": [
        "def look_at(from_pos, to_pos, up):\n",
        "    forward = normalize(from_pos - to_pos)\n",
        "    right = normalize(np.cross(up, forward))\n",
        "    up = np.cross(forward, right)\n",
        "    view_matrix = np.array([\n",
        "        [right[0], right[1], right[2], -np.dot(right, from_pos)],\n",
        "        [up[0], up[1], up[2], -np.dot(up, from_pos)],\n",
        "        [forward[0], forward[1], forward[2], -np.dot(forward, from_pos)],\n",
        "        [0, 0, 0, 1]\n",
        "    ])\n",
        "    return view_matrix"
      ],
      "metadata": {
        "id": "I7lWLWpuZtI-"
      },
      "execution_count": null,
      "outputs": []
    },
    {
      "cell_type": "code",
      "source": [
        "def project_vertex(vertex, view_matrix, projection_matrix):\n",
        "    vertex_homogeneous = np.append(vertex, 1)\n",
        "    transformed_vertex = view_matrix.dot(vertex_homogeneous)\n",
        "    projected_vertex = projection_matrix.dot(transformed_vertex)\n",
        "    return projected_vertex[:2] / projected_vertex[3]"
      ],
      "metadata": {
        "id": "82l6TFUleqDe"
      },
      "execution_count": null,
      "outputs": []
    },
    {
      "cell_type": "code",
      "source": [
        "# Initial camera setup\n",
        "initial_camera_pos = np.array([7.0, 1.0, 1.0])\n",
        "target_pos = np.array([0.0, 0.0, 0.0])\n",
        "up_vector = np.array([0.0, 1.0, 0.0])"
      ],
      "metadata": {
        "id": "ewG0z6SFeqqd"
      },
      "execution_count": null,
      "outputs": []
    },
    {
      "cell_type": "code",
      "source": [
        "# Projection matrix setup (assuming perspective projection)\n",
        "fov = 60  # Field of view in degrees\n",
        "aspect_ratio = 1.0  # Aspect ratio\n",
        "near = 1.0  # Near clipping plane\n",
        "far = 100.0  # Far clipping plane\n",
        "fov_rad = np.radians(fov)\n",
        "f = 1 / np.tan(fov_rad / 2)\n",
        "projection_matrix = np.array([\n",
        "    [f / aspect_ratio, 0, 0, 0],\n",
        "    [0, f, 0, 0],\n",
        "    [0, 0, (far + near) / (near - far), (2 * far * near) / (near - far)],\n",
        "    [0, 0, -1, 0]\n",
        "])"
      ],
      "metadata": {
        "id": "PtFrVcGgesuq"
      },
      "execution_count": null,
      "outputs": []
    },
    {
      "cell_type": "code",
      "source": [
        "# Rendering parameters\n",
        "radius_range = 5\n",
        "num_steps = 100"
      ],
      "metadata": {
        "id": "zM_mC0IPewo9"
      },
      "execution_count": null,
      "outputs": []
    },
    {
      "cell_type": "code",
      "source": [
        "# Ensure the output directory exists\n",
        "render_dir = \"renders_pillow\"\n",
        "if not os.path.exists(render_dir):\n",
        "    os.makedirs(render_dir)"
      ],
      "metadata": {
        "id": "9x70k638ezRS"
      },
      "execution_count": null,
      "outputs": []
    },
    {
      "cell_type": "code",
      "source": [
        "# Image rendering loop\n",
        "r = radius_range\n",
        "for step in range(num_steps):\n",
        "    alpha = step * 2 * np.pi / num_steps\n",
        "    camera_pos = np.array([\n",
        "        target_pos[0] + r * np.cos(alpha),\n",
        "        target_pos[1] + r * np.sin(alpha),\n",
        "        initial_camera_pos[2]\n",
        "    ])\n",
        "    view_matrix = look_at(camera_pos, target_pos, up_vector)\n",
        "    image_size = 500\n",
        "    image = Image.new(\"RGB\", (image_size, image_size), \"white\")\n",
        "    draw = ImageDraw.Draw(image)\n",
        "\n",
        "    # Project and draw each edge of the cube\n",
        "    for edge in cube_edges:\n",
        "        v0, v1 = cube_vertices[edge[0]], cube_vertices[edge[1]]\n",
        "        p0 = project_vertex(v0, view_matrix, projection_matrix)\n",
        "        p1 = project_vertex(v1, view_matrix, projection_matrix)\n",
        "        p0 = (image_size / 2 * (p0 + 1)).astype(int)\n",
        "        p1 = (image_size / 2 * (p1 + 1)).astype(int)\n",
        "        draw.line([tuple(p0), tuple(p1)], fill=\"black\")\n",
        "\n",
        "    # Save the image\n",
        "    filename = f'{render_dir}/frame_{r}_{step}.png'\n",
        "    image.save(filename)\n",
        "\n",
        "print(f'Rendering completed. Images saved in {render_dir} directory.')"
      ],
      "metadata": {
        "id": "jmVkjErle23x"
      },
      "execution_count": null,
      "outputs": []
    },
    {
      "cell_type": "code",
      "source": [
        "# Ensure the output directory exists in the current working directory\n",
        "output_dir = \"/cube_images_fixed\"\n",
        "if not os.path.exists(output_dir):\n",
        "    os.makedirs(output_dir)\n",
        "\n",
        "# Define the output directory\n",
        "output_dir = \"/cube_images_fixed\"\n",
        "zip_filename = \"/cube_images_fixed.zip\"\n",
        "\n",
        "# Copy images to the output directory\n",
        "for file in os.listdir(render_dir):\n",
        "    shutil.copy(os.path.join(render_dir, file), output_dir)\n",
        "\n",
        "# Create a zip file\n",
        "shutil.make_archive(\"/cube_images_fixed\", 'zip', output_dir)\n",
        "\n",
        "print(f'Images are saved and zipped in {zip_filename}')\n"
      ],
      "metadata": {
        "id": "cWg8WfRCfBV1"
      },
      "execution_count": null,
      "outputs": []
    }
  ]
}