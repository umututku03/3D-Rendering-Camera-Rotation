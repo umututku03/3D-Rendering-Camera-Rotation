{
  "nbformat": 4,
  "nbformat_minor": 0,
  "metadata": {
    "colab": {
      "provenance": [],
      "authorship_tag": "ABX9TyMXYhNjp+O1uZiDl3DNdg6f",
      "include_colab_link": true
    },
    "kernelspec": {
      "name": "python3",
      "display_name": "Python 3"
    },
    "language_info": {
      "name": "python"
    }
  },
  "cells": [
    {
      "cell_type": "markdown",
      "metadata": {
        "id": "view-in-github",
        "colab_type": "text"
      },
      "source": [
        "<a href=\"https://colab.research.google.com/github/umututku03/3D-Rendering-Camera-Rotation/blob/main/3D_Rendering_Camera_Rot.ipynb\" target=\"_parent\"><img src=\"https://colab.research.google.com/assets/colab-badge.svg\" alt=\"Open In Colab\"/></a>"
      ]
    },
    {
      "cell_type": "code",
      "execution_count": null,
      "metadata": {
        "id": "jt7BNOwZ24Wx"
      },
      "outputs": [],
      "source": [
        "import os\n",
        "import shutil\n",
        "import numpy as np\n",
        "from PIL import Image, ImageDraw\n",
        "import random\n",
        "from math import sin, cos, radians"
      ]
    },
    {
      "cell_type": "code",
      "source": [
        "# Define the cube vertices and edges\n",
        "cube_vertices = np.array([\n",
        "    [1, 1, -1], [-1, 1, -1], [-1, -1, -1], [1, -1, -1],\n",
        "    [1, 1, 1], [-1, 1, 1], [-1, -1, 1], [1, -1, 1]\n",
        "])\n",
        "\n",
        "cube_edges = [\n",
        "    (0, 1), (1, 2), (2, 3), (3, 0),\n",
        "    (4, 5), (5, 6), (6, 7), (7, 4),\n",
        "    (0, 4), (1, 5), (2, 6), (3, 7)\n",
        "]"
      ],
      "metadata": {
        "id": "p1rgQolk2-sf"
      },
      "execution_count": null,
      "outputs": []
    },
    {
      "cell_type": "code",
      "source": [
        "def normalize(v):\n",
        "    norm = np.linalg.norm(v)\n",
        "    if norm == 0:\n",
        "        return v\n",
        "    return v / norm"
      ],
      "metadata": {
        "id": "hjmlWGLWZasT"
      },
      "execution_count": null,
      "outputs": []
    },
    {
      "cell_type": "code",
      "source": [
        "def look_at(from_pos, to_pos, up):\n",
        "    forward = normalize(from_pos - to_pos)\n",
        "    right = normalize(np.cross(up, forward))\n",
        "    up = np.cross(forward, right)\n",
        "    view_matrix = np.array([\n",
        "        [right[0], right[1], right[2], -np.dot(right, from_pos)],\n",
        "        [up[0], up[1], up[2], -np.dot(up, from_pos)],\n",
        "        [forward[0], forward[1], forward[2], -np.dot(forward, from_pos)],\n",
        "        [0, 0, 0, 1]\n",
        "    ])\n",
        "    return view_matrix"
      ],
      "metadata": {
        "id": "I7lWLWpuZtI-"
      },
      "execution_count": null,
      "outputs": []
    },
    {
      "cell_type": "code",
      "source": [
        "def project_vertex(vertex, view_matrix, projection_matrix):\n",
        "    vertex_homogeneous = np.append(vertex, 1)\n",
        "    transformed_vertex = view_matrix.dot(vertex_homogeneous)\n",
        "    projected_vertex = projection_matrix.dot(transformed_vertex)\n",
        "    return projected_vertex[:2] / projected_vertex[3]"
      ],
      "metadata": {
        "id": "82l6TFUleqDe"
      },
      "execution_count": null,
      "outputs": []
    },
    {
      "cell_type": "code",
      "source": [
        "# Initial camera setup\n",
        "initial_camera_pos = np.array([7.0, 1.0, 1.0])\n",
        "target_pos = np.array([0.0, 0.0, 0.0])\n",
        "up_vector = np.array([0.0, 1.0, 0.0])"
      ],
      "metadata": {
        "id": "ewG0z6SFeqqd"
      },
      "execution_count": null,
      "outputs": []
    },
    {
      "cell_type": "code",
      "source": [
        "# Projection matrix setup (assuming perspective projection)\n",
        "fov = 60  # Field of view in degrees - could make it bigger\n",
        "aspect_ratio = 1.0  # Aspect ratio\n",
        "near = 1.0  # Near clipping plane\n",
        "far = 100.0  # Far clipping plane\n",
        "fov_rad = np.radians(fov)\n",
        "f = 1 / np.tan(fov_rad / 2)\n",
        "projection_matrix = np.array([\n",
        "    [f / aspect_ratio, 0, 0, 0],\n",
        "    [0, f, 0, 0],\n",
        "    [0, 0, (far + near) / (near - far), (2 * far * near) / (near - far)],\n",
        "    [0, 0, -1, 0]\n",
        "])"
      ],
      "metadata": {
        "id": "i3hmY2nYG1nl"
      },
      "execution_count": null,
      "outputs": []
    },
    {
      "cell_type": "code",
      "source": [
        "# Rendering parameters\n",
        "r = 5\n",
        "num_steps = 100"
      ],
      "metadata": {
        "id": "9x70k638ezRS"
      },
      "execution_count": null,
      "outputs": []
    },
    {
      "cell_type": "code",
      "source": [
        "# Ensure the output directories exist\n",
        "render_dir = \"renders_pillow\"\n",
        "extrinsic_dir = \"extrinsics\"\n",
        "points_dir = \"points_2d\"\n",
        "\n",
        "for directory in [render_dir, extrinsic_dir, points_dir]:\n",
        "    if not os.path.exists(directory):\n",
        "        os.makedirs(directory)"
      ],
      "metadata": {
        "id": "F4aik5iQgtej"
      },
      "execution_count": null,
      "outputs": []
    },
    {
      "cell_type": "code",
      "source": [
        "# Image rendering loop\n",
        "for step in range(num_steps):\n",
        "    alpha = step * 2 * np.pi / num_steps\n",
        "    camera_pos = np.array([\n",
        "        target_pos[0] + r * np.cos(alpha),  # x-coordinate\n",
        "        target_pos[1] - 3.5,                # y-coordinate (elevation) kept constant\n",
        "        target_pos[2] + r * np.sin(alpha)   # z-coordinate\n",
        "    ])\n",
        "    view_matrix = look_at(camera_pos, target_pos, up_vector)\n",
        "\n",
        "    # Save the extrinsic matrix\n",
        "    np.savetxt(f\"{extrinsic_dir}/extrinsic_{step}.txt\", view_matrix)\n",
        "\n",
        "    image_size = 500\n",
        "    image = Image.new(\"RGB\", (image_size, image_size), \"white\")\n",
        "    draw = ImageDraw.Draw(image)\n",
        "\n",
        "    # Project and draw each edge of the cube\n",
        "    points_2d = []\n",
        "    for edge in cube_edges:\n",
        "        v0, v1 = cube_vertices[edge[0]], cube_vertices[edge[1]]\n",
        "        p0 = project_vertex(v0, view_matrix, projection_matrix)\n",
        "        p1 = project_vertex(v1, view_matrix, projection_matrix)\n",
        "        p0 = (image_size / 2 * (p0 + 1)).astype(int)\n",
        "        p1 = (image_size / 2 * (p1 + 1)).astype(int)\n",
        "        draw.line([tuple(p0), tuple(p1)], fill=\"black\")\n",
        "        points_2d.append(p0)\n",
        "        points_2d.append(p1)\n",
        "\n",
        "    # Save the 2D points\n",
        "    points_2d = np.unique(np.array(points_2d), axis=0)  # Remove duplicate points\n",
        "    np.savetxt(f\"{points_dir}/points_{step}.txt\", points_2d, fmt='%d')\n",
        "\n",
        "    # Save the image\n",
        "    filename = f'{render_dir}/frame_{step}.png'\n",
        "    image.save(filename)\n",
        "\n",
        "print(f'Rendering completed. Images saved in {render_dir}, {extrinsic_dir}, and {points_dir} directories.')"
      ],
      "metadata": {
        "id": "jmVkjErle23x"
      },
      "execution_count": null,
      "outputs": []
    },
    {
      "cell_type": "code",
      "source": [
        "# Ensure the output directories exist in the current working directory\n",
        "# NOTE: This project is created in \"Kaggle\"\n",
        "output_dir_frames = \"/kaggle/working/cube_images_fixed_frames\"\n",
        "output_dir_extrinsics = \"/kaggle/working/cube_images_fixed_extrinsics\"\n",
        "output_dir_points = \"/kaggle/working/cube_images_fixed_points\"\n",
        "\n",
        "for directory in [output_dir_frames, output_dir_extrinsics, output_dir_points]:\n",
        "    if not os.path.exists(directory):\n",
        "        os.makedirs(directory)\n",
        "\n",
        "# Copy images and data to the output directories\n",
        "for file in os.listdir(render_dir):\n",
        "    shutil.copy(os.path.join(render_dir, file), output_dir_frames)\n",
        "\n",
        "for file in os.listdir(extrinsic_dir):\n",
        "    shutil.copy(os.path.join(extrinsic_dir, file), output_dir_extrinsics)\n",
        "\n",
        "for file in os.listdir(points_dir):\n",
        "    shutil.copy(os.path.join(points_dir, file), output_dir_points)\n",
        "\n",
        "# Create zip files\n",
        "shutil.make_archive(output_dir_frames, 'zip', output_dir_frames)\n",
        "shutil.make_archive(output_dir_extrinsics, 'zip', output_dir_extrinsics)\n",
        "shutil.make_archive(output_dir_points, 'zip', output_dir_points)\n",
        "\n",
        "print(f'Images and data are saved and zipped in {output_dir_frames}.zip, {output_dir_extrinsics}.zip, and {output_dir_points}.zip')"
      ],
      "metadata": {
        "id": "cWg8WfRCfBV1"
      },
      "execution_count": null,
      "outputs": []
    }
  ]
}